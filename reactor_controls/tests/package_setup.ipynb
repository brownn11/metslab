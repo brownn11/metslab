{
 "cells": [
  {
   "cell_type": "markdown",
   "id": "0cbcf57c-a9b8-45dc-ad78-ed73adf65c05",
   "metadata": {},
   "source": [
    "### In terminal, run:\n",
    "\n",
    "```\n",
    "git clone https://github.com/brownn11/metslab.git\n",
    "cd metslab\n",
    "pip install -e .\n",
    "```\n",
    "\n",
    "Before running the above, be sure to be in the correct directory that you wish to install in ahead of time. For Nina's Mac:\n",
    "```\n",
    "cd Mets_Lab\n",
    "cd controls\n",
    "git clone https://github.com/brownn11/metslab.git\n",
    "```"
   ]
  },
  {
   "cell_type": "code",
   "execution_count": 1,
   "id": "20359320-705a-4560-9f5b-e66be6a94ca4",
   "metadata": {},
   "outputs": [],
   "source": [
    "import sys\n",
    "sys.path.insert(0, 'C:\\\\Users\\\\MetsLab\\\\Documents\\\\Nina_Python\\\\metslab') # set path directory"
   ]
  },
  {
   "cell_type": "code",
   "execution_count": 2,
   "id": "61493174-c775-4956-8f42-f7b73bb60b09",
   "metadata": {},
   "outputs": [],
   "source": [
    "import reactor_controls\n",
    "from reactor_controls import instrument_controls as ic\n",
    "from reactor_controls import weight_control as wc\n",
    "from reactor_controls import flow_measure as fm\n",
    "from reactor_controls import concentration_calc as cc"
   ]
  },
  {
   "cell_type": "code",
   "execution_count": 3,
   "id": "076cf99f-0df0-4c37-aeaa-06375420465d",
   "metadata": {},
   "outputs": [
    {
     "name": "stdout",
     "output_type": "stream",
     "text": [
      "/dev/cu.ninamewsBeatsStudio\n",
      "/dev/cu.Bluetooth-Incoming-Port\n"
     ]
    }
   ],
   "source": [
    "# Testing it out with a basic command:\n",
    "\n",
    "ic.portlist()"
   ]
  },
  {
   "cell_type": "code",
   "execution_count": null,
   "id": "3247a7af-0d74-4722-92f8-b61acee8ff9c",
   "metadata": {},
   "outputs": [],
   "source": []
  }
 ],
 "metadata": {
  "kernelspec": {
   "display_name": "Python 3 (ipykernel)",
   "language": "python",
   "name": "python3"
  },
  "language_info": {
   "codemirror_mode": {
    "name": "ipython",
    "version": 3
   },
   "file_extension": ".py",
   "mimetype": "text/x-python",
   "name": "python",
   "nbconvert_exporter": "python",
   "pygments_lexer": "ipython3",
   "version": "3.9.13"
  }
 },
 "nbformat": 4,
 "nbformat_minor": 5
}
