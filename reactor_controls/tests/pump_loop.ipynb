{
 "cells": [
  {
   "cell_type": "code",
   "execution_count": 1,
   "id": "7454a850-a48c-41b6-afa8-cae52d241eda",
   "metadata": {},
   "outputs": [],
   "source": [
    "import sys\n",
    "sys.path.insert(0, '/metslab/reactor_controls')"
   ]
  },
  {
   "cell_type": "code",
   "execution_count": 2,
   "id": "8f669504-fa4a-4a8e-80ab-e23f0d3d561e",
   "metadata": {},
   "outputs": [],
   "source": [
    "import reactor_controls\n",
    "from reactor_controls import instrument_controls as ic\n",
    "from reactor_controls import weight_control as wc\n",
    "from reactor_controls import concentration_calc as cc\n",
    "from reactor_controls import flow_measure as fm"
   ]
  },
  {
   "cell_type": "code",
   "execution_count": 3,
   "id": "4f0c637b-da1f-4265-9f28-9b20d7fee900",
   "metadata": {},
   "outputs": [
    {
     "ename": "NameError",
     "evalue": "name 'serW' is not defined",
     "output_type": "error",
     "traceback": [
      "\u001b[0;31m---------------------------------------------------------------------------\u001b[0m",
      "\u001b[0;31mNameError\u001b[0m                                 Traceback (most recent call last)",
      "\u001b[0;32m/var/folders/tm/l0kmqbhd1y5dhh1z91_y2txc0000gn/T/ipykernel_18540/2144944451.py\u001b[0m in \u001b[0;36m<module>\u001b[0;34m\u001b[0m\n\u001b[1;32m      3\u001b[0m \u001b[0;34m\u001b[0m\u001b[0m\n\u001b[1;32m      4\u001b[0m \u001b[0;31m# add in another bit for the concentration replacement\u001b[0m\u001b[0;34m\u001b[0m\u001b[0;34m\u001b[0m\u001b[0m\n\u001b[0;32m----> 5\u001b[0;31m \u001b[0mpack\u001b[0m \u001b[0;34m=\u001b[0m \u001b[0mcc\u001b[0m\u001b[0;34m.\u001b[0m\u001b[0mx_25_200\u001b[0m\u001b[0;34m(\u001b[0m\u001b[0;34m)\u001b[0m\u001b[0;34m\u001b[0m\u001b[0;34m\u001b[0m\u001b[0m\n\u001b[0m\u001b[1;32m      6\u001b[0m \u001b[0;32mif\u001b[0m \u001b[0mtype\u001b[0m\u001b[0;34m(\u001b[0m\u001b[0mpack\u001b[0m\u001b[0;34m)\u001b[0m\u001b[0;34m!=\u001b[0m \u001b[0mint\u001b[0m\u001b[0;34m:\u001b[0m\u001b[0;34m\u001b[0m\u001b[0;34m\u001b[0m\u001b[0m\n\u001b[1;32m      7\u001b[0m     \u001b[0mprint\u001b[0m\u001b[0;34m(\u001b[0m\u001b[0mnice\u001b[0m\u001b[0;34m)\u001b[0m\u001b[0;34m\u001b[0m\u001b[0;34m\u001b[0m\u001b[0m\n",
      "\u001b[0;32m~/Mets_Lab/controls/metslab/reactor_controls/concentration_calc.py\u001b[0m in \u001b[0;36mx_25_200\u001b[0;34m()\u001b[0m\n\u001b[1;32m     25\u001b[0m \u001b[0;31m# Specifically for 25 and 200X concentrations\u001b[0m\u001b[0;34m\u001b[0m\u001b[0;34m\u001b[0m\u001b[0m\n\u001b[1;32m     26\u001b[0m \u001b[0;32mdef\u001b[0m \u001b[0mx_25_200\u001b[0m\u001b[0;34m(\u001b[0m\u001b[0;34m)\u001b[0m\u001b[0;34m:\u001b[0m\u001b[0;34m\u001b[0m\u001b[0;34m\u001b[0m\u001b[0m\n\u001b[0;32m---> 27\u001b[0;31m     \u001b[0mw_ini\u001b[0m \u001b[0;34m=\u001b[0m \u001b[0mic\u001b[0m\u001b[0;34m.\u001b[0m\u001b[0mgetweight\u001b[0m\u001b[0;34m(\u001b[0m\u001b[0mserW\u001b[0m\u001b[0;34m)\u001b[0m\u001b[0;34m\u001b[0m\u001b[0;34m\u001b[0m\u001b[0m\n\u001b[0m\u001b[1;32m     28\u001b[0m \u001b[0;34m\u001b[0m\u001b[0m\n\u001b[1;32m     29\u001b[0m     \u001b[0;31m# Set up some sort of time control here, so that the weight is only checked in-between pumps\u001b[0m\u001b[0;34m\u001b[0m\u001b[0;34m\u001b[0m\u001b[0m\n",
      "\u001b[0;31mNameError\u001b[0m: name 'serW' is not defined"
     ]
    }
   ],
   "source": [
    "# get conc replacement amts\n",
    "# pump #1 will withdraw that volume amount from the reactor\n",
    "# pump #1 will infuse that into a 'waste' bin\n",
    "# simultaniuosly as the infuse, pump #2 will withdraw from the solution\n",
    "# then, pump #2 will infuse into the reactor\n",
    "# re-calc, and so forth\n",
    "\n",
    "import time \n",
    "\n",
    "t_ini = time.time()\n",
    "while (t_now-t_ini) < 300: # Lets this run for 300 seconds \n",
    "    pack = cc.x_25_200(serW)\n",
    "    if type(pack)!= int:\n",
    "        Vm, Vr, Vn, V1n, V2n = pack\n",
    "        # Withdraw from reactor, infuse into waste:\n",
    "        cmd1 = ['vol ml',\n",
    "                'phn 1','fun rat','rat 0.02 MM','vol %s'%V1n, 'dir wdr',\n",
    "                'phn 2','fun pas 5',\n",
    "                'phn 3','fun rat','rat 0.04 MM','vol %s'%V1n, 'dir inf',\n",
    "                'phn 4','fun stp']\n",
    "        # Withdraw from solution, infuse into reactor: \n",
    "        cmd2 = ['vol ml',\n",
    "                'phn 1','fun rat','rat 0.02 MM','vol %s'%V1n, 'dir wdr',\n",
    "                'phn 2','fun pas 5',\n",
    "                'phn 3','fun rat','rat 0.04 MM','vol %s'%V1n, 'dir inf',\n",
    "                'phn 4','fun stp']\n",
    "        for ii in len(cmd1): # Works as long as both have the same # of commands. \n",
    "            pumpread(serP,0,cmd1[ii])\n",
    "            pumpread(serP,1,cmd1[ii])\n",
    "        pumpread(serP, 0, 'run')\n",
    "        pumpread(serP, 1, 'run')\n",
    "    time.sleep(30)\n",
    "    t_now = time.time()\n",
    "\n",
    "    \n",
    "# finally, run the flow_measure code to print amount of Ch4 coming through "
   ]
  },
  {
   "cell_type": "code",
   "execution_count": null,
   "id": "a73ec623-db1d-4691-b187-3c1d7fbc9119",
   "metadata": {},
   "outputs": [],
   "source": []
  }
 ],
 "metadata": {
  "kernelspec": {
   "display_name": "Python 3 (ipykernel)",
   "language": "python",
   "name": "python3"
  },
  "language_info": {
   "codemirror_mode": {
    "name": "ipython",
    "version": 3
   },
   "file_extension": ".py",
   "mimetype": "text/x-python",
   "name": "python",
   "nbconvert_exporter": "python",
   "pygments_lexer": "ipython3",
   "version": "3.9.13"
  }
 },
 "nbformat": 4,
 "nbformat_minor": 5
}
