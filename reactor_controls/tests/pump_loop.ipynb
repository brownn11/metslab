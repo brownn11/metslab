{
 "cells": [
  {
   "cell_type": "code",
   "execution_count": null,
   "metadata": {},
   "outputs": [],
   "source": [
    "import time \n",
    "import sys\n",
    "import serial\n",
    "\n",
    "sys.path.insert(0, 'C:\\\\Users\\\\MetsLab\\\\Documents\\\\Nina_Python\\\\metslab') # set path directory \n",
    "\n",
    "import reactor_controls\n",
    "from reactor_controls import instrument_controls as ic\n",
    "from reactor_controls import weight_control as wc\n",
    "from reactor_controls import concentration_calc as cc\n",
    "from reactor_controls import flow_measure as fm"
   ]
  },
  {
   "cell_type": "code",
   "execution_count": null,
   "metadata": {},
   "outputs": [],
   "source": [
    "# get conc replacement amts\n",
    "# pump #1 will withdraw that volume amount from the reactor\n",
    "# pump #1 will infuse that into a 'waste' bin\n",
    "# simultaniuosly as the infuse, pump #2 will withdraw from the solution\n",
    "# then, pump #2 will infuse into the reactor\n",
    "# re-calc, and so forth\n",
    "\n",
    "serW = serial.Serial(\"COM2\") #for Ohaus balance\n",
    "serW.baudrate = 9600; serW.timeout = 0.1; serW.close()\n",
    "\n",
    "serP = serial.Serial('COM13') #for SyringeOne pump\n",
    "serP.baudrate = 19200; serP.timeout=0.1; serP.close()\n",
    "\n",
    "w_ini = 0\n",
    "while ii < 3:\n",
    "    w_ini += ic.getweight(serW)\n",
    "    time.sleep(10)\n",
    "    ii += 1\n",
    "\n",
    "w_ini = w_ini/3\n",
    "\n",
    "t_ini = time.time()\n",
    "t_now = time.time()\n",
    "while (t_now-t_ini) < 300: # Lets this run for 300 seconds \n",
    "    pack = cc.x_25_200(serW)\n",
    "    if type(pack)!= int:\n",
    "        Vm, Vr, Vn, V1n, V2n = pack\n",
    "        # Withdraw from reactor, infuse into waste:\n",
    "        cmd1 = ['vol ml',\n",
    "                'phn 1','fun rat','rat 0.02 MM','vol %s'%V1n, 'dir wdr',\n",
    "                'phn 2','fun pas 5',\n",
    "                'phn 3','fun rat','rat 0.04 MM','vol %s'%V1n, 'dir inf',\n",
    "                'phn 4','fun stp']\n",
    "        # Withdraw from solution, infuse into reactor: \n",
    "        cmd2 = ['vol ml',\n",
    "                'phn 1','fun rat','rat 0.02 MM','vol %s'%V1n, 'dir wdr',\n",
    "                'phn 2','fun pas 5',\n",
    "                'phn 3','fun rat','rat 0.04 MM','vol %s'%V1n, 'dir inf',\n",
    "                'phn 4','fun stp']\n",
    "        for ii in len(cmd1): # Works as long as both have the same # of commands. \n",
    "            pumpread(serP,0,cmd1[ii])\n",
    "            pumpread(serP,1,cmd1[ii])\n",
    "        pumpread(serP, 0, 'run')\n",
    "        pumpread(serP, 1, 'run')\n",
    "    time.sleep(30)\n",
    "    t_now = time.time()\n",
    "\n",
    "    \n",
    "# finally, run the flow_measure code to print amount of Ch4 coming through "
   ]
  },
  {
   "cell_type": "code",
   "execution_count": null,
   "metadata": {},
   "outputs": [],
   "source": []
  }
 ],
 "metadata": {
  "kernelspec": {
   "display_name": "Python 3",
   "language": "python",
   "name": "python3"
  },
  "language_info": {
   "codemirror_mode": {
    "name": "ipython",
    "version": 3
   },
   "file_extension": ".py",
   "mimetype": "text/x-python",
   "name": "python",
   "nbconvert_exporter": "python",
   "pygments_lexer": "ipython3",
   "version": "3.7.4"
  }
 },
 "nbformat": 4,
 "nbformat_minor": 5
}
